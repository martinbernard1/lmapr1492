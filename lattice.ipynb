{
 "cells": [
  {
   "cell_type": "code",
   "execution_count": 1,
   "id": "violent-tactics",
   "metadata": {},
   "outputs": [],
   "source": [
    "from pymatgen.ext.matproj import MPRester\n",
    "from pymatgen.symmetry.analyzer import SpacegroupAnalyzer\n",
    "with MPRester(\"3434NTJ0Daan9bDUnO\") as m:\n",
    "\n",
    "\n",
    "    structure = m.get_structure_by_material_id(\"mp-7914\")"
   ]
  },
  {
   "cell_type": "code",
   "execution_count": 2,
   "id": "posted-summary",
   "metadata": {
    "scrolled": true
   },
   "outputs": [],
   "source": [
    "VecteursDirect = structure.lattice\n",
    "VecteursReciproque = structure.lattice.reciprocal_lattice\n",
    "Maille = SpacegroupAnalyzer(structure).get_lattice_type()\n",
    "SystemeCristalin = SpacegroupAnalyzer(structure).get_crystal_system()\n",
    "GroupePonctuel = SpacegroupAnalyzer(structure).get_point_group_symbol()"
   ]
  },
  {
   "cell_type": "code",
   "execution_count": 3,
   "id": "average-stanford",
   "metadata": {},
   "outputs": [
    {
     "name": "stdout",
     "output_type": "stream",
     "text": [
      "Les vecteurs de bases du réseau direct sont :\n",
      "5.554341 -1.592558 0.000000\n",
      "5.554341 1.592558 0.000000\n",
      "5.097717 0.000000 2.720335\n",
      "Les vecteurs de bases du réseau réciproque sont :\n",
      "0.565610 -1.972671 -1.059914\n",
      "0.565610 1.972671 -1.059914\n",
      "0.000000 0.000000 2.309710\n",
      "le type de maille est :\n",
      "rhombohedral\n",
      "le systeme cristallin est :\n",
      "trigonal\n",
      "le groupe ponctuel est :\n",
      "-3m\n"
     ]
    }
   ],
   "source": [
    "print(\"Les vecteurs de bases du réseau direct sont :\")\n",
    "print(VecteursDirect)\n",
    "print(\"Les vecteurs de bases du réseau réciproque sont :\")\n",
    "print(VecteursReciproque)\n",
    "print(\"le type de maille est :\")\n",
    "print(Maille)\n",
    "print(\"le systeme cristallin est :\")\n",
    "print(SystemeCristalin)\n",
    "print(\"le groupe ponctuel est :\")\n",
    "print(GroupePonctuel)\n"
   ]
  }
 ],
 "metadata": {
  "kernelspec": {
   "display_name": "Python 3",
   "language": "python",
   "name": "python3"
  },
  "language_info": {
   "codemirror_mode": {
    "name": "ipython",
    "version": 3
   },
   "file_extension": ".py",
   "mimetype": "text/x-python",
   "name": "python",
   "nbconvert_exporter": "python",
   "pygments_lexer": "ipython3",
   "version": "3.6.8"
  }
 },
 "nbformat": 4,
 "nbformat_minor": 5
}
