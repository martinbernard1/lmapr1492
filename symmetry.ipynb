{
 "cells": [
  {
   "cell_type": "code",
   "execution_count": 1,
   "id": "qualified-offense",
   "metadata": {},
   "outputs": [],
   "source": [
    "from pymatgen.ext.matproj import MPRester\n",
    "from jupyter_jsmol import JsmolView\n",
    "from ipywidgets import Layout, widgets, interact\n",
    "from jupyter_jsmol.pymatgen import quick_view\n",
    "from pymatgen import Structure  \n",
    "from pymatgen.symmetry.analyzer import SpacegroupAnalyzer"
   ]
  },
  {
   "cell_type": "code",
   "execution_count": 2,
   "id": "graphic-passenger",
   "metadata": {},
   "outputs": [],
   "source": [
    "with MPRester(\"3434NTJ0Daan9bDUnO\") as m:\n",
    "    structure = m.get_structure_by_material_id(\"mp-7914\")"
   ]
  },
  {
   "cell_type": "code",
   "execution_count": 3,
   "id": "august-briefs",
   "metadata": {},
   "outputs": [
    {
     "data": {
      "application/vnd.jupyter.widget-view+json": {
       "model_id": "b41b83846bcf49919298fa88d51a78d1",
       "version_major": 2,
       "version_minor": 0
      },
      "text/plain": [
       "JsmolView(layout=Layout(align_self='stretch', height='400px'))"
      ]
     },
     "metadata": {},
     "output_type": "display_data"
    }
   ],
   "source": [
    "#représentation de la strucure de base\n",
    "# cependant j'ai reçu ce message d'erreur : A Jupyter widget could not be displayed because the widget state could not be found. \n",
    "#This could happen if the kernel storing the widget is no longer available, or if the widget state was not saved in the notebook. \n",
    "#You may be able to create the widget by running the appropriate cells.\n",
    "#cela m'a empéché de voir la représentation\n",
    "view_0 = quick_view(structure)\n",
    "display(view_0)"
   ]
  },
  {
   "cell_type": "code",
   "execution_count": 4,
   "id": "agricultural-barrier",
   "metadata": {},
   "outputs": [],
   "source": [
    "symétrie = SpacegroupAnalyzer(structure).get_symmetry_operations()\n",
    "\n",
    "#On choisi nos atomes :\n",
    "\n",
    "Na = [0.33333,0.66667,0.16667]\n",
    "Sc = [1,0,1]\n",
    "O = [0.66667,0.33333,0.06773]\n",
    "\n",
    "#on choisi nos symétries :\n",
    "\n",
    "S_1 = symétrie[1]\n",
    "S_2 = symétrie[6]\n",
    "S_3 = symétrie[11]\n",
    "\n",
    "#on applique les symétries sur les atomes :\n",
    "\n",
    "Na_symétrie = S_1.operate(Na)\n",
    "Sc_symétrie = S_2.operate(Sc)\n",
    "O_symétrie = S_3.operate(O)"
   ]
  },
  {
   "cell_type": "code",
   "execution_count": 5,
   "id": "interesting-quantum",
   "metadata": {},
   "outputs": [
    {
     "name": "stdout",
     "output_type": "stream",
     "text": [
      "1) Première symétrie :\n",
      " L'atome choisi de sodium est situé en  [0.33333, 0.66667, 0.16667] \n",
      " On lui applique la symétrie Rot:\n",
      "[[-1.  0.  0.]\n",
      " [ 0. -1.  0.]\n",
      " [ 0.  0. -1.]]\n",
      "tau\n",
      "[0. 0. 0.] \n",
      " Ses nouvelles coordonnées sont maintenant [-0.33333 -0.66667 -0.16667]\n"
     ]
    },
    {
     "data": {
      "application/vnd.jupyter.widget-view+json": {
       "model_id": "3fb2c1ba8bb64c6f946d1366de5df413",
       "version_major": 2,
       "version_minor": 0
      },
      "text/plain": [
       "JsmolView(layout=Layout(align_self='stretch', height='400px'))"
      ]
     },
     "metadata": {},
     "output_type": "display_data"
    }
   ],
   "source": [
    "print(\"1) Première symétrie :\\n\",\"L'atome choisi de sodium est situé en \",Na,\"\\n\",\"On lui applique la symétrie\", S_1,\"\\n\",\"Ses nouvelles coordonnées sont maintenant\",Na_symétrie)\n",
    "view_1 = quick_view(structure)\n",
    "display(view_1)\n",
    "view_1.script(\"draw symop 2 {0.33333,0.66667,0.16667}\")"
   ]
  },
  {
   "cell_type": "code",
   "execution_count": 6,
   "id": "dress-guyana",
   "metadata": {},
   "outputs": [
    {
     "name": "stdout",
     "output_type": "stream",
     "text": [
      "2) Deuxième symétrie :\n",
      " L'atome choisi de scandium est situé en  [1, 0, 1] \n",
      " On lui applique la symétrie Rot:\n",
      "[[-1.  0.  0.]\n",
      " [ 0.  0. -1.]\n",
      " [ 0. -1.  0.]]\n",
      "tau\n",
      "[0. 0. 0.] \n",
      " Ses nouvelles coordonnées sont maintenant [-1. -1.  0.]\n"
     ]
    },
    {
     "data": {
      "application/vnd.jupyter.widget-view+json": {
       "model_id": "5dffecd3e7794cfea274a2fbb41665d2",
       "version_major": 2,
       "version_minor": 0
      },
      "text/plain": [
       "JsmolView(layout=Layout(align_self='stretch', height='400px'))"
      ]
     },
     "metadata": {},
     "output_type": "display_data"
    }
   ],
   "source": [
    "print(\"2) Deuxième symétrie :\\n\",\"L'atome choisi de scandium est situé en \",Sc,\"\\n\",\"On lui applique la symétrie\", S_2,\"\\n\",\"Ses nouvelles coordonnées sont maintenant\",Sc_symétrie)\n",
    "view_2 = quick_view(structure)\n",
    "display(view_2)\n",
    "view_2.script(\"draw symop 7 {1,0,1}\")"
   ]
  },
  {
   "cell_type": "code",
   "execution_count": 7,
   "id": "lightweight-julian",
   "metadata": {},
   "outputs": [
    {
     "name": "stdout",
     "output_type": "stream",
     "text": [
      "3) Troisième symétrie :\n",
      " L'atome choisi d'oxygène est situé en  [0.66667, 0.33333, 0.06773] \n",
      " On lui applique la symétrie Rot:\n",
      "[[0. 0. 1.]\n",
      " [0. 1. 0.]\n",
      " [1. 0. 0.]]\n",
      "tau\n",
      "[0. 0. 0.] \n",
      " Ses nouvelles coordonnées sont maintenant [0.06773 0.33333 0.66667]\n"
     ]
    },
    {
     "data": {
      "application/vnd.jupyter.widget-view+json": {
       "model_id": "888adf5f19b74747b8ea4b2b471d2288",
       "version_major": 2,
       "version_minor": 0
      },
      "text/plain": [
       "JsmolView(layout=Layout(align_self='stretch', height='400px'))"
      ]
     },
     "metadata": {},
     "output_type": "display_data"
    }
   ],
   "source": [
    "print(\"3) Troisième symétrie :\\n\",\"L'atome choisi d'oxygène est situé en \",O,\"\\n\",\"On lui applique la symétrie\", S_3,\"\\n\",\"Ses nouvelles coordonnées sont maintenant\",O_symétrie)\n",
    "view_3 = quick_view(structure)\n",
    "display(view_3)\n",
    "view_3.script(\"draw symop 12 {0.66667,0.33333,0.06773}\")"
   ]
  }
 ],
 "metadata": {
  "kernelspec": {
   "display_name": "Python 3",
   "language": "python",
   "name": "python3"
  },
  "language_info": {
   "codemirror_mode": {
    "name": "ipython",
    "version": 3
   },
   "file_extension": ".py",
   "mimetype": "text/x-python",
   "name": "python",
   "nbconvert_exporter": "python",
   "pygments_lexer": "ipython3",
   "version": "3.6.8"
  }
 },
 "nbformat": 4,
 "nbformat_minor": 5
}
